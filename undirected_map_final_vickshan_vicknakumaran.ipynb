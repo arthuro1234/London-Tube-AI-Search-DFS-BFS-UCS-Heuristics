{
 "cells": [
  {
   "cell_type": "code",
   "execution_count": 1,
   "id": "3a58609e",
   "metadata": {},
   "outputs": [],
   "source": [
    "# Importing necessary libraries\n",
    "import pandas as pd\n",
    "from collections import defaultdict, deque\n",
    "import heapq\n",
    "\n",
    "df = pd.read_csv('tubedata.csv', header=None)\n",
    "df.head()\n",
    "\n",
    "##print(df.head())\n",
    " \n",
    "station_dict = defaultdict(list)\n",
    "zone_dict = defaultdict(set)\n",
    "\n",
    "# get data row by row\n",
    "for index, row in df.iterrows():\n",
    "  \n",
    "  start_station = row[0]\n",
    "  end_station = row[1]\n",
    "  act_cost = int(row[3])\n",
    "\n",
    "  zone1 = row[4]\n",
    "  zone2 = row[5]\n",
    "\n",
    "  # station dictionary of child station tuples (child_name, cost from parent to the child)\n",
    "  # {\"Mile End\": [(\"Stepney Green\", 2), (\"Wembley\", 1)]}\n",
    "  station_list = station_dict[start_station]\n",
    "  station_list.append((end_station, act_cost))\n",
    "\n",
    "  # the following two lines add the other direction of the tube \"step\"\n",
    "  station_list = station_dict[end_station]\n",
    "  station_list.append((start_station, act_cost))\n",
    "  \n",
    "  # we add the main zone\n",
    "  zone_dict[start_station].add(zone1)\n",
    "  # we add the secondary zone\n",
    "  if zone2 != \"0\":\n",
    "    zone_dict[start_station].add(zone2)\n",
    "    # if the secondary zone is not 0 it's the main zone for the ending station\n",
    "    zone_dict[end_station].add(zone2)\n",
    "  else:\n",
    "    # otherwise the main zone for the ending station is the same as for the starting station\n",
    "    zone_dict[end_station].add(zone1)\n",
    "# Setting the initial conditions or parameters"
   ]
  },
  {
   "cell_type": "markdown",
   "id": "e722f0da",
   "metadata": {},
   "source": [
    "## Question 2.1 - Implement DFS, BFS and UCS"
   ]
  },
  {
   "cell_type": "code",
   "execution_count": 2,
   "id": "72ab7a8e",
   "metadata": {},
   "outputs": [],
   "source": [
    "# Loading and preprocessing data\n",
    "def dfs(graph, start, goal, inverse_order=False):\n",
    "    visited_nodes = set()\n",
    "    store_list = [(start, [start], 0)]  # station, path, cost\n",
    "    exp_nodes = 0\n",
    "\n",
    "    while store_list:\n",
    "        (station, path, cost) = store_list.pop()\n",
    "        exp_nodes += 1\n",
    "\n",
    "        if station == goal:\n",
    "            return path, cost, exp_nodes\n",
    "        visited_nodes.add(station)\n",
    "\n",
    "        neighbors = graph[station]\n",
    "        if inverse_order:\n",
    "            neighbors = reversed(neighbors)\n",
    "\n",
    "        for next, next_cost in neighbors:\n",
    "            if next not in visited_nodes:\n",
    "                store_list.append((next, path + [next], cost + next_cost))\n",
    "\n",
    "    return None\n",
    "\n",
    "\n",
    "def bfs(graph, start, goal, inverse_order=False):\n",
    "    queue = deque([(start, [start])]) \n",
    "    visited = set()\n",
    "\n",
    "    while queue:\n",
    "        current, path = queue.popleft()\n",
    "\n",
    "        if current == goal:\n",
    "            return path  \n",
    "\n",
    "        if current not in visited:\n",
    "            visited.add(current)\n",
    "            neighbors = graph.get(current, [])\n",
    "\n",
    "            if inverse_order:\n",
    "                neighbors = reversed(neighbors)\n",
    "\n",
    "            for neighbor in neighbors:\n",
    "                neighbor_name, _ = neighbor\n",
    "                if neighbor_name not in visited:\n",
    "                    queue.append((neighbor_name, path + [neighbor_name]))\n",
    "\n",
    "    return None\n",
    "\n",
    "def ucs(graph, start_station, goal_station, zone_dict, inverse_order=False):\n",
    "    start_state = (0, start_station, [start_station])  # cost, station, path\n",
    "    priority_queue = [start_state]\n",
    "    visited = set()\n",
    "\n",
    "    while priority_queue:\n",
    "        current_cost, current_station, current_path = heapq.heappop(priority_queue)\n",
    "\n",
    "        if current_station == goal_station:\n",
    "            return current_path, current_cost, len(visited) + 1  # +1 for the current node\n",
    "\n",
    "        if current_station not in visited:\n",
    "            visited.add(current_station)\n",
    "\n",
    "            neighbors = graph[current_station]\n",
    "            if inverse_order:\n",
    "                neighbors = sorted(neighbors, key=lambda x: x[1], reverse=True)\n",
    "\n",
    "            for neighbor, cost in neighbors:\n",
    "                if neighbor not in current_path:\n",
    "                    new_cost = current_cost + cost\n",
    "                    new_state = (new_cost, neighbor, current_path + [neighbor])\n",
    "                    heapq.heappush(priority_queue, new_state)\n",
    "\n",
    "    return None\n",
    "\n",
    "# Cleaning and organising data for analysis"
   ]
  },
  {
   "cell_type": "markdown",
   "id": "7d9cee90",
   "metadata": {},
   "source": [
    "## Question 2.3 - Extending the cost function"
   ]
  },
  {
   "cell_type": "code",
   "execution_count": 3,
   "id": "fcaf275e",
   "metadata": {},
   "outputs": [],
   "source": [
    "# General code processing\n",
    "lines_and_stations_dict = defaultdict(list)\n",
    "\n",
    "for index, row in df.iterrows():\n",
    "    start_station, end_station, line, act_cost, _, _ = row\n",
    "    act_cost = int(act_cost)\n",
    "\n",
    "    # Adding line information to the station dictionary\n",
    "    lines_and_stations_dict[start_station].append((end_station, (act_cost, line)))\n",
    "    lines_and_stations_dict[end_station].append((start_station, (act_cost, line)))\n",
    "\n",
    "\n",
    "def ucs_with_line_change(graph, start, goal, line_change_cost=2):\n",
    "    queue = [(0, start, [start], None)]  # Cost, station, path, current line\n",
    "    expanded_nodes = 0\n",
    "    visited_nodes = set()\n",
    "\n",
    "    while queue:\n",
    "        cost, edge, path, current_line = heapq.heappop(queue)\n",
    "        expanded_nodes += 1\n",
    "\n",
    "        if edge == goal:\n",
    "            return path, cost, expanded_nodes\n",
    "        if edge not in visited_nodes:\n",
    "            visited_nodes.add(edge)\n",
    "            \n",
    "        for next_station, next_info in graph[edge]:\n",
    "            next_cost, new_line = next_info # Assuming the graph stores cost and line\n",
    "            total_cost = cost + next_cost\n",
    "\n",
    "            # Check for line change and add penalty if needed\n",
    "            if current_line and new_line != current_line:\n",
    "                total_cost += line_change_cost\n",
    "\n",
    "            if next_station not in path:\n",
    "                heapq.heappush(queue, (total_cost, next_station, path + [next_station], new_line))\n",
    "\n",
    "    return None\n",
    "\n",
    "def ucs_with_line_change_final(graph, start_station, end_station):\n",
    "    # UCS with time change implementation\n",
    "    ucs_path, ucs_start, ucs_end = ucs_with_line_change(lines_and_stations_dict, start_station, end_station)\n",
    "    print(\"UCS with line changes:\", ucs_path, ucs_start, ucs_end)\n",
    "    \n",
    "def search_algorithms_combined(graph, start_station, end_station, inverse):\n",
    "    print(\"Searching routes from \", start_station, \"to\", end_station)\n",
    "\n",
    "    # DFS - Depth-First Search\n",
    "    dfs_path, dfs_start, dfs_end = dfs(graph, start_station, end_station, inverse)\n",
    "    print(\"DFS:\", dfs_path, dfs_start, dfs_end)\n",
    "\n",
    "    # BFS - Breadth-First Search\n",
    "    bfs_path = bfs(graph, start_station, end_station, inverse)\n",
    "    bfs_tot_cost = sum(graph[node1][0][1] for node1 in bfs_path[1:])\n",
    "    bfs_path_expanded = len(bfs_path)\n",
    "    print(\"BFS:\", bfs_path, bfs_tot_cost, bfs_path_expanded)\n",
    "    \n",
    "    # UCS - Uniform Cost Search\n",
    "    ucs_path, ucs_start, ucs_end = ucs(graph, start_station, end_station, zone_dict, inverse)\n",
    "    print(\"UCS :\", ucs_path, ucs_start, ucs_end)\n",
    "\n"
   ]
  },
  {
   "cell_type": "code",
   "execution_count": 4,
   "id": "46dbcf95",
   "metadata": {},
   "outputs": [
    {
     "name": "stdout",
     "output_type": "stream",
     "text": [
      "Searching routes from  New Cross Gate to Stepney Green\n",
      "DFS: ['New Cross Gate', 'Surrey Quays', 'Canada Water', 'Rotherhithe', 'Wapping', 'Shadwell', 'Whitechapel', 'Aldgate East', 'Tower Hill', 'Aldgate', 'Liverpool Street', 'Bethnal Green', 'Mile End', 'Stepney Green'] 28 358\n",
      "BFS: ['New Cross Gate', 'Surrey Quays', 'Canada Water', 'Rotherhithe', 'Wapping', 'Shadwell', 'Whitechapel', 'Stepney Green'] 12 8\n",
      "UCS : ['New Cross Gate', 'Surrey Quays', 'Canada Water', 'Rotherhithe', 'Wapping', 'Shadwell', 'Whitechapel', 'Stepney Green'] 14 19\n"
     ]
    }
   ],
   "source": [
    "# General code processing\n",
    "search_algorithms_combined(station_dict, 'New Cross Gate', \"Stepney Green\", True) ## If Inverse is True"
   ]
  },
  {
   "cell_type": "code",
   "execution_count": 5,
   "id": "60ca72c5",
   "metadata": {
    "scrolled": true
   },
   "outputs": [
    {
     "name": "stdout",
     "output_type": "stream",
     "text": [
      "Searching routes from  New Cross Gate to Stepney Green\n",
      "DFS: ['New Cross Gate', 'Surrey Quays', 'Canada Water', 'Canary Wharf', 'North Greenwich', 'Canning Town', 'West Ham', 'Stratford', 'Mile End', 'Stepney Green'] 27 35\n",
      "BFS: ['New Cross Gate', 'Surrey Quays', 'Canada Water', 'Rotherhithe', 'Wapping', 'Shadwell', 'Whitechapel', 'Stepney Green'] 12 8\n",
      "UCS : ['New Cross Gate', 'Surrey Quays', 'Canada Water', 'Rotherhithe', 'Wapping', 'Shadwell', 'Whitechapel', 'Stepney Green'] 14 19\n"
     ]
    }
   ],
   "source": [
    "search_algorithms_combined(station_dict, 'New Cross Gate', \"Stepney Green\", False) ## When Inverse if false"
   ]
  },
  {
   "cell_type": "code",
   "execution_count": 6,
   "id": "e61b2e13",
   "metadata": {},
   "outputs": [
    {
     "name": "stdout",
     "output_type": "stream",
     "text": [
      "UCS with line changes: ['New Cross Gate', 'Surrey Quays', 'Canada Water', 'Rotherhithe', 'Wapping', 'Shadwell', 'Whitechapel', 'Stepney Green'] 16 17\n"
     ]
    }
   ],
   "source": [
    "ucs_with_line_change_final(station_dict, 'New Cross Gate', \"Stepney Green\" ) ## UCS with the line Change"
   ]
  },
  {
   "cell_type": "code",
   "execution_count": 7,
   "id": "55ae7e6b",
   "metadata": {},
   "outputs": [
    {
     "name": "stdout",
     "output_type": "stream",
     "text": [
      "Searching routes from  Euston to Victoria\n",
      "DFS: ['Euston', 'Warren Street', 'Oxford Circus', 'Green Park', 'Victoria'] 7 5\n",
      "BFS: ['Euston', 'Warren Street', 'Oxford Circus', 'Green Park', 'Victoria'] 7 5\n",
      "UCS : ['Euston', 'Warren Street', 'Oxford Circus', 'Green Park', 'Victoria'] 7 35\n"
     ]
    }
   ],
   "source": [
    "\n",
    "search_algorithms_combined(station_dict, 'Euston', \"Victoria\", False)"
   ]
  },
  {
   "cell_type": "code",
   "execution_count": 8,
   "id": "7ea89c17",
   "metadata": {},
   "outputs": [
    {
     "name": "stdout",
     "output_type": "stream",
     "text": [
      "Searching routes from  Canada Water to Stratford\n",
      "DFS: ['Canada Water', 'Canary Wharf', 'North Greenwich', 'Canning Town', 'West Ham', 'Stratford'] 15 6\n",
      "BFS: ['Canada Water', 'Canary Wharf', 'North Greenwich', 'Canning Town', 'West Ham', 'Stratford'] 15 6\n",
      "UCS : ['Canada Water', 'Rotherhithe', 'Wapping', 'Shadwell', 'Whitechapel', 'Stepney Green', 'Mile End', 'Stratford'] 14 55\n"
     ]
    }
   ],
   "source": [
    "\n",
    "search_algorithms_combined(station_dict, 'Canada Water', \"Stratford\", False)"
   ]
  },
  {
   "cell_type": "code",
   "execution_count": 9,
   "id": "60b744ed",
   "metadata": {},
   "outputs": [
    {
     "name": "stdout",
     "output_type": "stream",
     "text": [
      "Searching routes from  Baker Street to Wembley Park\n",
      "DFS: ['Baker Street', 'Finchley Road', 'Wembley Park'] 13 3\n",
      "BFS: ['Baker Street', 'Finchley Road', 'Wembley Park'] 5 3\n",
      "UCS : ['Baker Street', 'Finchley Road', 'Wembley Park'] 13 85\n"
     ]
    }
   ],
   "source": [
    "\n",
    "search_algorithms_combined(station_dict, 'Baker Street', \"Wembley Park\", False)"
   ]
  },
  {
   "cell_type": "code",
   "execution_count": 10,
   "id": "ba902485",
   "metadata": {},
   "outputs": [
    {
     "name": "stdout",
     "output_type": "stream",
     "text": [
      "Searching routes from  Hammersmith to Upminster\n",
      "DFS: ['Hammersmith', 'Turnham Green', 'Acton Town', 'Ealing Common', 'North Ealing', 'Park Royal', 'Alperton', 'Sudbury Town', 'Sudbury Hill', 'South Harrow', 'Rayners Lane', 'West Harrow', 'Harrow-on-the-Hill', 'Northwick Park', 'Preston Road', 'Wembley Park', 'Finchley Road', 'Baker Street', 'Great Portland Street', 'Euston Square', \"King's Cross St. Pancras\", 'Euston', 'Warren Street', 'Oxford Circus', 'Green Park', 'Victoria', 'Pimlico', 'Vauxhall', 'Stockwell', 'Oval', 'Kennington', 'Elephant & Castle', 'Borough', 'London Bridge', 'Bank/Monument', 'Moorgate', 'Liverpool Street', 'Aldgate', 'Tower Hill', 'Aldgate East', 'Whitechapel', 'Stepney Green', 'Mile End', 'Bow Road', 'Bromley-by-Bow', 'West Ham', 'Plaistow', 'Upton Park', 'East Ham', 'Barking', 'Upney', 'Becontree', 'Dagenham Heathway', 'Dagenham East', 'Elm Park', 'Hornchurch', 'Upminster Bridge', 'Upminster'] 142 162\n",
      "BFS: ['Hammersmith', 'Barons Court', \"Earls' Court\", 'Gloucester Road', 'South Kensington', 'Sloane Square', 'Victoria', \"St. James' Park\", 'Westminster', 'Waterloo', 'Bank/Monument', 'Liverpool Street', 'Bethnal Green', 'Mile End', 'Stratford', 'West Ham', 'Plaistow', 'Upton Park', 'East Ham', 'Barking', 'Upney', 'Becontree', 'Dagenham Heathway', 'Dagenham East', 'Elm Park', 'Hornchurch', 'Upminster Bridge', 'Upminster'] 62 28\n",
      "UCS : ['Hammersmith', 'Barons Court', \"Earls' Court\", 'Gloucester Road', 'South Kensington', 'Sloane Square', 'Victoria', \"St. James' Park\", 'Westminster', 'Waterloo', 'Bank/Monument', 'Liverpool Street', 'Bethnal Green', 'Mile End', 'Bow Road', 'Bromley-by-Bow', 'West Ham', 'Plaistow', 'Upton Park', 'East Ham', 'Barking', 'Upney', 'Becontree', 'Dagenham Heathway', 'Dagenham East', 'Elm Park', 'Hornchurch', 'Upminster Bridge', 'Upminster'] 64 270\n"
     ]
    }
   ],
   "source": [
    "\n",
    "search_algorithms_combined(station_dict, 'Hammersmith', \"Upminster\", False)"
   ]
  },
  {
   "cell_type": "code",
   "execution_count": 11,
   "id": "6421d3b4",
   "metadata": {},
   "outputs": [
    {
     "name": "stdout",
     "output_type": "stream",
     "text": [
      "Searching routes from  Ealing Broadway to South Kensington\n",
      "DFS: ['Ealing Broadway', 'Ealing Common', 'North Ealing', 'Park Royal', 'Alperton', 'Sudbury Town', 'Sudbury Hill', 'South Harrow', 'Rayners Lane', 'West Harrow', 'Harrow-on-the-Hill', 'Northwick Park', 'Preston Road', 'Wembley Park', 'Finchley Road', 'Baker Street', 'Great Portland Street', 'Euston Square', \"King's Cross St. Pancras\", 'Euston', 'Warren Street', 'Oxford Circus', 'Green Park', 'Victoria', 'Sloane Square', 'South Kensington'] 67 194\n",
      "BFS: ['Ealing Broadway', 'Ealing Common', 'Acton Town', 'Turnham Green', 'Hammersmith', 'Barons Court', \"Earls' Court\", 'Gloucester Road', 'South Kensington'] 16 9\n",
      "UCS : ['Ealing Broadway', 'Ealing Common', 'Acton Town', 'Turnham Green', 'Hammersmith', 'Barons Court', \"Earls' Court\", 'Gloucester Road', 'South Kensington'] 19 50\n"
     ]
    }
   ],
   "source": [
    "\n",
    "search_algorithms_combined(station_dict, 'Ealing Broadway', \"South Kensington\", False)"
   ]
  },
  {
   "cell_type": "markdown",
   "id": "d6ce7a63",
   "metadata": {},
   "source": [
    "## Question 2.4 - Heuristic search"
   ]
  },
  {
   "cell_type": "code",
   "execution_count": 12,
   "id": "629f32ea",
   "metadata": {},
   "outputs": [
    {
     "name": "stdout",
     "output_type": "stream",
     "text": [
      "\n",
      "Best-First Search:\n",
      "Path: ['New Cross Gate', 'Surrey Quays', 'Canada Water', 'Rotherhithe', 'Wapping', 'Shadwell', 'Whitechapel', 'Stepney Green']\n"
     ]
    }
   ],
   "source": [
    "from queue import PriorityQueue\n",
    "\n",
    "def heuristic(station, goal_station, zone_dict):\n",
    "    # Check if both the current and goal stations are in the zone dictionary\n",
    "    if station in zone_dict and goal_station in zone_dict:\n",
    "        station_zones = zone_dict[station]\n",
    "        goal_zones = zone_dict[goal_station]\n",
    "        # Convert zone information to integers for calculation\n",
    "        station_zones = {int(zone) for zone in station_zones}\n",
    "        goal_zones = {int(zone) for zone in goal_zones}\n",
    "\n",
    "        # Calculate the minimum zone difference between current and goal stations\n",
    "        min_zone_difference = min(abs(station_zone - goal_zone) for station_zone in station_zones for goal_zone in goal_zones)\n",
    "\n",
    "        return min_zone_difference\n",
    "    else:\n",
    "        return 0  \n",
    "\n",
    "def best_first_search(graph, start, goal, zone_dict):\n",
    "    priority_list = PriorityQueue()\n",
    "    visited = set()\n",
    "    # Initialise the priority queue with the start nod\n",
    "    priority_list.put((heuristic(start, goal, zone_dict), start, [start]))\n",
    "\n",
    "    while not priority_list.empty():\n",
    "        _, edge, path = priority_list.get()\n",
    "        # Return the path if the goal is reached\n",
    "        if edge == goal:\n",
    "            return path\n",
    "        # Process the neighbors of the current node if it has not been visited\n",
    "        if edge in graph and edge not in visited:\n",
    "            visited.add(edge)\n",
    "            for neighbor, _ in graph[edge]:\n",
    "                if neighbor not in path:\n",
    "                     # Add neighbors to the priority queue with their heuristic values\n",
    "                    priority_list.put((heuristic(neighbor, goal, zone_dict), neighbor, path + [neighbor]))\n",
    "\n",
    "    return None\n",
    "\n",
    "start_station = \"New Cross Gate\"\n",
    "goal_station = \"Stepney Green\"\n",
    "bfs_path = best_first_search(station_dict, start_station, goal_station, zone_dict)\n",
    "print(\"\\nBest-First Search:\")\n",
    "print(\"Path:\", bfs_path)"
   ]
  }
 ],
 "metadata": {
  "kernelspec": {
   "display_name": "Python 3",
   "language": "python",
   "name": "python3"
  },
  "language_info": {
   "codemirror_mode": {
    "name": "ipython",
    "version": 3
   },
   "file_extension": ".py",
   "mimetype": "text/x-python",
   "name": "python",
   "nbconvert_exporter": "python",
   "pygments_lexer": "ipython3",
   "version": "3.8.8"
  }
 },
 "nbformat": 4,
 "nbformat_minor": 5
}
